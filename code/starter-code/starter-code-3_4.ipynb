{
 "cells": [
  {
   "cell_type": "markdown",
   "metadata": {},
   "source": [
    "# Model Comparison Lab\n",
    "\n",
    "In this lab we will compare the performance of all the models we have learned about so far, using the car evaluation dataset."
   ]
  },
  {
   "cell_type": "markdown",
   "metadata": {},
   "source": [
    "## 1. Prepare the data\n",
    "\n",
    "The [car evaluation dataset](https://archive.ics.uci.edu/ml/machine-learning-databases/car/) is in the assets/datasets folder. By now you should be very familiar with this dataset.\n",
    "\n",
    "1. Load the data into a pandas dataframe\n",
    "- Encode the categorical features properly: define a map that preserves the scale (assigning smaller numbers to words indicating smaller quantities)\n",
    "- Separate features from target into X and y"
   ]
  },
  {
   "cell_type": "code",
   "execution_count": 1,
   "metadata": {
    "collapsed": false
   },
   "outputs": [],
   "source": [
    "import pandas as pd\n",
    "import numpy as np\n",
    "import matplotlib.pyplot as plt\n",
    "from sklearn.neighbors import KNeighborsClassifier\n",
    "from sklearn.preprocessing import StandardScaler, LabelEncoder\n",
    "from sklearn.tree import DecisionTreeClassifier\n",
    "from sklearn.model_selection import train_test_split, cross_val_score, GridSearchCV\n",
    "from sklearn.ensemble import BaggingClassifier, RandomForestClassifier, ExtraTreesClassifier\n",
    "from sklearn.metrics import confusion_matrix, classification_report\n",
    "from sklearn.linear_model import LogisticRegression\n",
    "from sklearn.svm import SVC\n",
    "%matplotlib inline"
   ]
  },
  {
   "cell_type": "code",
   "execution_count": 2,
   "metadata": {
    "collapsed": false
   },
   "outputs": [
    {
     "data": {
      "text/html": [
       "<div>\n",
       "<table border=\"1\" class=\"dataframe\">\n",
       "  <thead>\n",
       "    <tr style=\"text-align: right;\">\n",
       "      <th></th>\n",
       "      <th>buying</th>\n",
       "      <th>maint</th>\n",
       "      <th>doors</th>\n",
       "      <th>persons</th>\n",
       "      <th>lug_boot</th>\n",
       "      <th>safety</th>\n",
       "      <th>acceptability</th>\n",
       "    </tr>\n",
       "  </thead>\n",
       "  <tbody>\n",
       "    <tr>\n",
       "      <th>0</th>\n",
       "      <td>4</td>\n",
       "      <td>4</td>\n",
       "      <td>2</td>\n",
       "      <td>2</td>\n",
       "      <td>1</td>\n",
       "      <td>1</td>\n",
       "      <td>1</td>\n",
       "    </tr>\n",
       "    <tr>\n",
       "      <th>1</th>\n",
       "      <td>4</td>\n",
       "      <td>4</td>\n",
       "      <td>2</td>\n",
       "      <td>2</td>\n",
       "      <td>1</td>\n",
       "      <td>2</td>\n",
       "      <td>1</td>\n",
       "    </tr>\n",
       "    <tr>\n",
       "      <th>2</th>\n",
       "      <td>4</td>\n",
       "      <td>4</td>\n",
       "      <td>2</td>\n",
       "      <td>2</td>\n",
       "      <td>1</td>\n",
       "      <td>3</td>\n",
       "      <td>1</td>\n",
       "    </tr>\n",
       "    <tr>\n",
       "      <th>3</th>\n",
       "      <td>4</td>\n",
       "      <td>4</td>\n",
       "      <td>2</td>\n",
       "      <td>2</td>\n",
       "      <td>2</td>\n",
       "      <td>1</td>\n",
       "      <td>1</td>\n",
       "    </tr>\n",
       "    <tr>\n",
       "      <th>4</th>\n",
       "      <td>4</td>\n",
       "      <td>4</td>\n",
       "      <td>2</td>\n",
       "      <td>2</td>\n",
       "      <td>2</td>\n",
       "      <td>2</td>\n",
       "      <td>1</td>\n",
       "    </tr>\n",
       "  </tbody>\n",
       "</table>\n",
       "</div>"
      ],
      "text/plain": [
       "   buying  maint  doors  persons  lug_boot  safety  acceptability\n",
       "0       4      4      2        2         1       1              1\n",
       "1       4      4      2        2         1       2              1\n",
       "2       4      4      2        2         1       3              1\n",
       "3       4      4      2        2         2       1              1\n",
       "4       4      4      2        2         2       2              1"
      ]
     },
     "execution_count": 2,
     "metadata": {},
     "output_type": "execute_result"
    }
   ],
   "source": [
    "df = pd.read_csv('./../../assets/datasets/car.csv')\n",
    "df.head()\n",
    "\n",
    "# Clean data, assign values to text features\n",
    "\n",
    "mapper = {\n",
    "    'low' : 1,\n",
    "    'small': 1,\n",
    "    'med' : 2,\n",
    "    'high': 3,\n",
    "    'big' : 3,\n",
    "    'vhigh': 4,\n",
    "    'unacc': 1,\n",
    "    'acc': 2,\n",
    "    'good': 3,\n",
    "    'vgood': 4,\n",
    "    '2': 2,\n",
    "    '3': 3,\n",
    "    '4': 4,\n",
    "    '5more': 5,\n",
    "    'more': 6,\n",
    "}\n",
    "\n",
    "df = df.applymap(lambda x : mapper[x])\n",
    "df.head()"
   ]
  },
  {
   "cell_type": "markdown",
   "metadata": {},
   "source": [
    "## 2. Useful preparation\n",
    "\n",
    "Since we will compare several models, let's write a couple of helper functions.\n",
    "\n",
    "1. Separate X and y between a train and test set, using 30% test set, random state = 42\n",
    "    - make sure that the data is shuffled and stratified\n",
    "2. Define a function called `evaluate_model`, that trains the model on the train set, tests it on the test, calculates:\n",
    "    - accuracy score\n",
    "    - confusion matrix\n",
    "    - classification report\n",
    "3. Initialize a global dictionary to store the various models for later retrieval\n"
   ]
  },
  {
   "cell_type": "code",
   "execution_count": 3,
   "metadata": {
    "collapsed": false
   },
   "outputs": [],
   "source": [
    "X = df.drop('acceptability',axis = 1)\n",
    "y = df['acceptability']\n",
    "\n",
    "# Separate X and y between a train and test set, using 30% test set, random state = 42\n",
    "X_train, X_test, y_train, y_test = train_test_split(X, y, test_size=0.30, random_state=42, stratify = y)\n",
    "\n",
    "# Define a function called evaluate_model, that trains the model on the train set, tests it on the test, calculates:\n",
    "# accuracy score, confusion matrix, classification report\n",
    "\n",
    "def evaluate_model(model):\n",
    "    # Fit Model\n",
    "    model.fit(X_train, y_train)\n",
    "    # Generate Predictions\n",
    "    predictions = model.predict(X_test)\n",
    "    # Determine Accuracy\n",
    "    print 'Accuracy:', model.score(X_test, y_test)\n",
    "    # Create Confusion Matrix\n",
    "    con_matrix = pd.DataFrame(confusion_matrix(predictions, y_test))\n",
    "    con_matrix.columns = ['pred_acc', 'pred_good', 'pred_unacc', 'pred_vgood']\n",
    "    con_matrix.index = ['acc', 'good', 'unacc', 'vgood']\n",
    "    print con_matrix\n",
    "    print classification_report(predictions, y_test)\n",
    "    return model\n",
    "\n",
    "# Initialize a global dictionary to store the various models for later retrieval\n",
    "dicty_models = {}"
   ]
  },
  {
   "cell_type": "markdown",
   "metadata": {},
   "source": [
    "## 3.a KNN\n",
    "\n",
    "Let's start with `KNeighborsClassifier`.\n",
    "\n",
    "1. Initialize a KNN model\n",
    "- Evaluate it's performance with the function you previously defined\n",
    "- Find the optimal value of K using grid search\n",
    "    - Be careful on how you perform the cross validation in the grid search"
   ]
  },
  {
   "cell_type": "code",
   "execution_count": 4,
   "metadata": {
    "collapsed": true
   },
   "outputs": [],
   "source": [
    "def grid_searcher(model, pg):\n",
    "    gs = GridSearchCV(model, param_grid=pg, cv=5)\n",
    "    gs.fit(X_train, y_train)\n",
    "    \n",
    "    print gs.best_params_"
   ]
  },
  {
   "cell_type": "code",
   "execution_count": 5,
   "metadata": {
    "collapsed": false
   },
   "outputs": [
    {
     "name": "stdout",
     "output_type": "stream",
     "text": [
      "Accuracy: 0.938342967245\n",
      "       pred_acc  pred_good  pred_unacc  pred_vgood\n",
      "acc         357          8           1           0\n",
      "good          6        106          11           4\n",
      "unacc         0          1           9           1\n",
      "vgood         0          0           0          15\n",
      "             precision    recall  f1-score   support\n",
      "\n",
      "          1       0.98      0.98      0.98       366\n",
      "          2       0.92      0.83      0.88       127\n",
      "          3       0.43      0.82      0.56        11\n",
      "          4       0.75      1.00      0.86        15\n",
      "\n",
      "avg / total       0.95      0.94      0.94       519\n",
      "\n"
     ]
    }
   ],
   "source": [
    "# Initialize a KNN model\n",
    "# Evaluate it's performance with the function you previously defined\n",
    "dicty_models['KNN'] = evaluate_model(KNeighborsClassifier())"
   ]
  },
  {
   "cell_type": "code",
   "execution_count": 6,
   "metadata": {
    "collapsed": false
   },
   "outputs": [
    {
     "name": "stdout",
     "output_type": "stream",
     "text": [
      "{'n_neighbors': 5}\n"
     ]
    }
   ],
   "source": [
    "# Find the optimal value of K using grid search\n",
    "pg = {'n_neighbors': [x for x in range(1,20)]}\n",
    "\n",
    "gs = GridSearchCV(dicty_models['KNN'], param_grid=pg, cv=5)\n",
    "\n",
    "gs.fit(X_train, y_train)\n",
    "\n",
    "print gs.best_params_"
   ]
  },
  {
   "cell_type": "code",
   "execution_count": 7,
   "metadata": {
    "collapsed": false
   },
   "outputs": [
    {
     "name": "stdout",
     "output_type": "stream",
     "text": [
      "Accuracy: 0.938342967245\n",
      "       pred_acc  pred_good  pred_unacc  pred_vgood\n",
      "acc         357          8           1           0\n",
      "good          6        106          11           4\n",
      "unacc         0          1           9           1\n",
      "vgood         0          0           0          15\n",
      "             precision    recall  f1-score   support\n",
      "\n",
      "          1       0.98      0.98      0.98       366\n",
      "          2       0.92      0.83      0.88       127\n",
      "          3       0.43      0.82      0.56        11\n",
      "          4       0.75      1.00      0.86        15\n",
      "\n",
      "avg / total       0.95      0.94      0.94       519\n",
      "\n"
     ]
    }
   ],
   "source": [
    "dicty_models['KNN'] = evaluate_model(KNeighborsClassifier().set_params(n_neighbors = 5))"
   ]
  },
  {
   "cell_type": "markdown",
   "metadata": {},
   "source": [
    "## 3.b Bagging + KNN\n",
    "\n",
    "Now that we have found the optimal K, let's wrap `KNeighborsClassifier` in a BaggingClassifier and see if the score improves.\n",
    "\n",
    "1. Wrap the KNN model in a Bagging Classifier\n",
    "- Evaluate performance\n",
    "- Do a grid search only on the bagging classifier params"
   ]
  },
  {
   "cell_type": "code",
   "execution_count": 8,
   "metadata": {
    "collapsed": false
   },
   "outputs": [
    {
     "name": "stdout",
     "output_type": "stream",
     "text": [
      "Accuracy: 0.93063583815\n",
      "       pred_acc  pred_good  pred_unacc  pred_vgood\n",
      "acc         354          9           1           0\n",
      "good          8        104           9           5\n",
      "unacc         1          2          11           1\n",
      "vgood         0          0           0          14\n",
      "             precision    recall  f1-score   support\n",
      "\n",
      "          1       0.98      0.97      0.97       364\n",
      "          2       0.90      0.83      0.86       126\n",
      "          3       0.52      0.73      0.61        15\n",
      "          4       0.70      1.00      0.82        14\n",
      "\n",
      "avg / total       0.94      0.93      0.93       519\n",
      "\n"
     ]
    }
   ],
   "source": [
    "dicty_models['bagging_knn'] = evaluate_model(BaggingClassifier(dicty_models['KNN'].set_params(n_neighbors=5)))"
   ]
  },
  {
   "cell_type": "code",
   "execution_count": 9,
   "metadata": {
    "collapsed": false
   },
   "outputs": [
    {
     "name": "stdout",
     "output_type": "stream",
     "text": [
      "{'n_estimators': 15, 'bootstrap': True, 'bootstrap_features': False}\n"
     ]
    }
   ],
   "source": [
    "# Find the optimal value of K using grid search\n",
    "pg = {'n_estimators': [4, 8, 10, 12, 15],\n",
    "     'bootstrap': [True, False],\n",
    "     'bootstrap_features': [True, False]}\n",
    "\n",
    "grid_searcher(dicty_models['bagging_knn'],pg)\n",
    "    \n"
   ]
  },
  {
   "cell_type": "code",
   "execution_count": 10,
   "metadata": {
    "collapsed": false
   },
   "outputs": [
    {
     "name": "stdout",
     "output_type": "stream",
     "text": [
      "Accuracy: 0.926782273603\n",
      "       pred_acc  pred_good  pred_unacc  pred_vgood\n",
      "acc         354         11           0           0\n",
      "good          9        101           9           3\n",
      "unacc         0          3          12           3\n",
      "vgood         0          0           0          14\n",
      "             precision    recall  f1-score   support\n",
      "\n",
      "          1       0.98      0.97      0.97       365\n",
      "          2       0.88      0.83      0.85       122\n",
      "          3       0.57      0.67      0.62        18\n",
      "          4       0.70      1.00      0.82        14\n",
      "\n",
      "avg / total       0.93      0.93      0.93       519\n",
      "\n"
     ]
    }
   ],
   "source": [
    "dicty_models['bagging_knn'] = evaluate_model(BaggingClassifier(dicty_models['KNN'].set_params(n_neighbors=5)).set_params(n_estimators = 12, bootstrap = True, bootstrap_features = False))"
   ]
  },
  {
   "cell_type": "markdown",
   "metadata": {},
   "source": [
    "## 4. Logistic Regression\n",
    "\n",
    "Let's see if logistic regression performs better\n",
    "\n",
    "1. Initialize LR and test on Train/Test set\n",
    "- Find optimal params with Grid Search\n",
    "- See if Bagging improves the score"
   ]
  },
  {
   "cell_type": "code",
   "execution_count": 11,
   "metadata": {
    "collapsed": false
   },
   "outputs": [
    {
     "name": "stdout",
     "output_type": "stream",
     "text": [
      "Accuracy: 0.763005780347\n",
      "       pred_acc  pred_good  pred_unacc  pred_vgood\n",
      "acc         346         65           6           0\n",
      "good         11         48          13          19\n",
      "unacc         4          2           1           0\n",
      "vgood         2          0           1           1\n",
      "             precision    recall  f1-score   support\n",
      "\n",
      "          1       0.95      0.83      0.89       417\n",
      "          2       0.42      0.53      0.47        91\n",
      "          3       0.05      0.14      0.07         7\n",
      "          4       0.05      0.25      0.08         4\n",
      "\n",
      "avg / total       0.84      0.76      0.80       519\n",
      "\n"
     ]
    }
   ],
   "source": [
    "dicty_models['log_reg'] = evaluate_model(LogisticRegression())"
   ]
  },
  {
   "cell_type": "code",
   "execution_count": 12,
   "metadata": {
    "collapsed": false
   },
   "outputs": [
    {
     "name": "stdout",
     "output_type": "stream",
     "text": [
      "{'penalty': 'l1', 'C': 1000.0}\n"
     ]
    }
   ],
   "source": [
    "pg = {'penalty': ['l1','l2'],\n",
    "     'C': [0.0001, 0.001, 0.01, 0.1, 1.0, 10.0, 100.0, 1000.0, 10000.0],\n",
    "     }\n",
    "\n",
    "grid_searcher(dicty_models['log_reg'],pg)\n",
    "    "
   ]
  },
  {
   "cell_type": "code",
   "execution_count": 13,
   "metadata": {
    "collapsed": false
   },
   "outputs": [],
   "source": [
    "dicty_models['log_reg'] = (dicty_models['log_reg'].set_params(penalty = 'l1', C=100))"
   ]
  },
  {
   "cell_type": "code",
   "execution_count": 14,
   "metadata": {
    "collapsed": false
   },
   "outputs": [
    {
     "name": "stdout",
     "output_type": "stream",
     "text": [
      "Accuracy: 0.797687861272\n",
      "       pred_acc  pred_good  pred_unacc  pred_vgood\n",
      "acc         342         56           5           0\n",
      "good         15         57          11          10\n",
      "unacc         4          2           5           0\n",
      "vgood         2          0           0          10\n",
      "             precision    recall  f1-score   support\n",
      "\n",
      "          1       0.94      0.85      0.89       403\n",
      "          2       0.50      0.61      0.55        93\n",
      "          3       0.24      0.45      0.31        11\n",
      "          4       0.50      0.83      0.62        12\n",
      "\n",
      "avg / total       0.84      0.80      0.81       519\n",
      "\n",
      "{'n_estimators': 15, 'bootstrap': True, 'bootstrap_features': False}\n"
     ]
    }
   ],
   "source": [
    "dicty_models['bagging_log_reg'] = evaluate_model(BaggingClassifier(dicty_models['log_reg'].set_params(penalty='l1', C=100.0)))\n",
    "\n",
    "pg = {'n_estimators': [4, 8, 10, 12, 15],\n",
    "     'bootstrap': [True, False],\n",
    "     'bootstrap_features': [True, False]}\n",
    "\n",
    "\n",
    "grid_searcher(dicty_models['bagging_log_reg'], pg)"
   ]
  },
  {
   "cell_type": "code",
   "execution_count": 15,
   "metadata": {
    "collapsed": false
   },
   "outputs": [
    {
     "name": "stdout",
     "output_type": "stream",
     "text": [
      "Accuracy: 0.789980732177\n",
      "       pred_acc  pred_good  pred_unacc  pred_vgood\n",
      "acc         344         57           6           0\n",
      "good         14         56          14          10\n",
      "unacc         3          2           0           0\n",
      "vgood         2          0           1          10\n",
      "             precision    recall  f1-score   support\n",
      "\n",
      "          1       0.95      0.85      0.89       407\n",
      "          2       0.49      0.60      0.54        94\n",
      "          3       0.00      0.00      0.00         5\n",
      "          4       0.50      0.77      0.61        13\n",
      "\n",
      "avg / total       0.84      0.79      0.81       519\n",
      "\n"
     ]
    }
   ],
   "source": [
    "dicty_models['bagging_log_reg'] = evaluate_model(dicty_models['bagging_log_reg'].set_params(n_estimators=10, bootstrap=True, bootstrap_features=False))\n"
   ]
  },
  {
   "cell_type": "markdown",
   "metadata": {},
   "source": [
    "## 5. Decision Trees\n",
    "\n",
    "Let's see if Decision Trees perform better\n",
    "\n",
    "1. Initialize DT and test on Train/Test set\n",
    "- Find optimal params with Grid Search\n",
    "- See if Bagging improves the score"
   ]
  },
  {
   "cell_type": "code",
   "execution_count": 16,
   "metadata": {
    "collapsed": false
   },
   "outputs": [
    {
     "name": "stdout",
     "output_type": "stream",
     "text": [
      "Accuracy: 0.957610789981\n",
      "       pred_acc  pred_good  pred_unacc  pred_vgood\n",
      "acc         360         11           1           0\n",
      "good          3        102           4           1\n",
      "unacc         0          2          16           0\n",
      "vgood         0          0           0          19\n",
      "             precision    recall  f1-score   support\n",
      "\n",
      "          1       0.99      0.97      0.98       372\n",
      "          2       0.89      0.93      0.91       110\n",
      "          3       0.76      0.89      0.82        18\n",
      "          4       0.95      1.00      0.97        19\n",
      "\n",
      "avg / total       0.96      0.96      0.96       519\n",
      "\n"
     ]
    }
   ],
   "source": [
    "dicty_models['decision_tree'] = evaluate_model(DecisionTreeClassifier())"
   ]
  },
  {
   "cell_type": "code",
   "execution_count": 21,
   "metadata": {
    "collapsed": false
   },
   "outputs": [
    {
     "name": "stdout",
     "output_type": "stream",
     "text": [
      "{'max_features': None, 'max_leaf_nodes': None, 'criterion': 'entropy', 'max_depth': None}\n"
     ]
    }
   ],
   "source": [
    "pg = {\n",
    "    'criterion': ['gini', 'entropy'],\n",
    "    'max_features': [None, 1, 2, 3],\n",
    "    'max_depth': [None, 4, 5, 6, 7, 8, 9],\n",
    "    'max_leaf_nodes': [None, 4, 5, 6, 7, 8, 9]\n",
    "}\n",
    "\n",
    "grid_searcher(dicty_models['decision_tree'], pg)"
   ]
  },
  {
   "cell_type": "code",
   "execution_count": 17,
   "metadata": {
    "collapsed": false
   },
   "outputs": [
    {
     "name": "stdout",
     "output_type": "stream",
     "text": [
      "Accuracy: 0.969171483622\n",
      "       pred_acc  pred_good  pred_unacc  pred_vgood\n",
      "acc         360          9           0           0\n",
      "good          2        105           2           1\n",
      "unacc         1          1          19           0\n",
      "vgood         0          0           0          19\n",
      "             precision    recall  f1-score   support\n",
      "\n",
      "          1       0.99      0.98      0.98       369\n",
      "          2       0.91      0.95      0.93       110\n",
      "          3       0.90      0.90      0.90        21\n",
      "          4       0.95      1.00      0.97        19\n",
      "\n",
      "avg / total       0.97      0.97      0.97       519\n",
      "\n"
     ]
    }
   ],
   "source": [
    "dicty_models['decision_tree'] = evaluate_model(dicty_models['decision_tree'].set_params(max_features = None, max_leaf_nodes = None, criterion = 'entropy', max_depth = None))"
   ]
  },
  {
   "cell_type": "markdown",
   "metadata": {},
   "source": [
    "## 6. Support Vector Machines\n",
    "\n",
    "Let's see if SVM perform better\n",
    "\n",
    "1. Initialize SVM and test on Train/Test set\n",
    "- Find optimal params with Grid Search\n",
    "- See if Bagging improves the score"
   ]
  },
  {
   "cell_type": "code",
   "execution_count": 18,
   "metadata": {
    "collapsed": false
   },
   "outputs": [
    {
     "name": "stdout",
     "output_type": "stream",
     "text": [
      "Accuracy: 0.949903660886\n",
      "       pred_acc  pred_good  pred_unacc  pred_vgood\n",
      "acc         355          6           0           0\n",
      "good          8        108           7           2\n",
      "unacc         0          1          12           0\n",
      "vgood         0          0           2          18\n",
      "             precision    recall  f1-score   support\n",
      "\n",
      "          1       0.98      0.98      0.98       361\n",
      "          2       0.94      0.86      0.90       125\n",
      "          3       0.57      0.92      0.71        13\n",
      "          4       0.90      0.90      0.90        20\n",
      "\n",
      "avg / total       0.96      0.95      0.95       519\n",
      "\n"
     ]
    }
   ],
   "source": [
    "dicty_models['SVM'] = evaluate_model(SVC())"
   ]
  },
  {
   "cell_type": "code",
   "execution_count": null,
   "metadata": {
    "collapsed": false
   },
   "outputs": [],
   "source": [
    "pg = {\n",
    "    'C': [1.0, 10.0, 100.0, 1000.0, 10000.0],\n",
    "    'kernel': ['rbf', 'linear', 'poly'],\n",
    "    'degree': [1, 2, 3, 4, 5]\n",
    "}\n",
    "\n",
    "grid_searcher(dicty_models['SVM'], pg)"
   ]
  },
  {
   "cell_type": "code",
   "execution_count": 19,
   "metadata": {
    "collapsed": false
   },
   "outputs": [
    {
     "name": "stdout",
     "output_type": "stream",
     "text": [
      "Accuracy: 0.938342967245\n",
      "       pred_acc  pred_good  pred_unacc  pred_vgood\n",
      "acc         353         14           0           0\n",
      "good         10         99           6           0\n",
      "unacc         0          2          15           0\n",
      "vgood         0          0           0          20\n",
      "             precision    recall  f1-score   support\n",
      "\n",
      "          1       0.97      0.96      0.97       367\n",
      "          2       0.86      0.86      0.86       115\n",
      "          3       0.71      0.88      0.79        17\n",
      "          4       1.00      1.00      1.00        20\n",
      "\n",
      "avg / total       0.94      0.94      0.94       519\n",
      "\n"
     ]
    }
   ],
   "source": [
    "dicty_models['SVM'] = evaluate_model(SVC(kernel='poly', C=1000.0, degree=3))\n"
   ]
  },
  {
   "cell_type": "markdown",
   "metadata": {},
   "source": [
    "## 7. Random Forest & Extra Trees\n",
    "\n",
    "Let's see if Random Forest and Extra Trees perform better\n",
    "\n",
    "1. Initialize RF and ET and test on Train/Test set\n",
    "- Find optimal params with Grid Search"
   ]
  },
  {
   "cell_type": "code",
   "execution_count": 20,
   "metadata": {
    "collapsed": false
   },
   "outputs": [
    {
     "name": "stdout",
     "output_type": "stream",
     "text": [
      "Accuracy: 0.95183044316\n",
      "       pred_acc  pred_good  pred_unacc  pred_vgood\n",
      "acc         356          6           1           0\n",
      "good          6        106           4           2\n",
      "unacc         1          2          15           1\n",
      "vgood         0          1           1          17\n",
      "             precision    recall  f1-score   support\n",
      "\n",
      "          1       0.98      0.98      0.98       363\n",
      "          2       0.92      0.90      0.91       118\n",
      "          3       0.71      0.79      0.75        19\n",
      "          4       0.85      0.89      0.87        19\n",
      "\n",
      "avg / total       0.95      0.95      0.95       519\n",
      "\n"
     ]
    }
   ],
   "source": [
    "dicty_models['Random_Forest'] = evaluate_model(RandomForestClassifier())"
   ]
  },
  {
   "cell_type": "code",
   "execution_count": 21,
   "metadata": {
    "collapsed": false
   },
   "outputs": [
    {
     "name": "stdout",
     "output_type": "stream",
     "text": [
      "{'bootstrap': False, 'criterion': 'gini', 'max_depth': 15}\n"
     ]
    }
   ],
   "source": [
    "pg = {\n",
    "    'bootstrap': [True, False],\n",
    "    'criterion':['gini', 'entropy'],\n",
    "    'max_depth': [None, 3, 5, 7, 9, 15]\n",
    "}\n",
    "\n",
    "grid_searcher(dicty_models['Random_Forest'], pg)"
   ]
  },
  {
   "cell_type": "code",
   "execution_count": 23,
   "metadata": {
    "collapsed": false
   },
   "outputs": [
    {
     "name": "stdout",
     "output_type": "stream",
     "text": [
      "Accuracy: 0.965317919075\n",
      "       pred_acc  pred_good  pred_unacc  pred_vgood\n",
      "acc         360          7           0           0\n",
      "good          3        107           6           1\n",
      "unacc         0          0          15           0\n",
      "vgood         0          1           0          19\n",
      "             precision    recall  f1-score   support\n",
      "\n",
      "          1       0.99      0.98      0.99       367\n",
      "          2       0.93      0.91      0.92       117\n",
      "          3       0.71      1.00      0.83        15\n",
      "          4       0.95      0.95      0.95        20\n",
      "\n",
      "avg / total       0.97      0.97      0.97       519\n",
      "\n"
     ]
    }
   ],
   "source": [
    "dicty_models['Random_Forest'] = evaluate_model(RandomForestClassifier(bootstrap=False, criterion='entropy'))"
   ]
  },
  {
   "cell_type": "code",
   "execution_count": 24,
   "metadata": {
    "collapsed": false
   },
   "outputs": [
    {
     "name": "stdout",
     "output_type": "stream",
     "text": [
      "Accuracy: 0.965317919075\n",
      "       pred_acc  pred_good  pred_unacc  pred_vgood\n",
      "acc         357          7           1           0\n",
      "good          6        108           3           1\n",
      "unacc         0          0          17           0\n",
      "vgood         0          0           0          19\n",
      "             precision    recall  f1-score   support\n",
      "\n",
      "          1       0.98      0.98      0.98       365\n",
      "          2       0.94      0.92      0.93       118\n",
      "          3       0.81      1.00      0.89        17\n",
      "          4       0.95      1.00      0.97        19\n",
      "\n",
      "avg / total       0.97      0.97      0.97       519\n",
      "\n"
     ]
    }
   ],
   "source": [
    "dicty_models['Random_Forest_ET'] = evaluate_model(ExtraTreesClassifier())\n"
   ]
  },
  {
   "cell_type": "code",
   "execution_count": 25,
   "metadata": {
    "collapsed": false
   },
   "outputs": [
    {
     "name": "stdout",
     "output_type": "stream",
     "text": [
      "{'bootstrap': False, 'criterion': 'entropy', 'max_depth': 15}\n"
     ]
    }
   ],
   "source": [
    "pg = {\n",
    "    'bootstrap': [True, False],\n",
    "    'criterion':['gini', 'entropy'],\n",
    "    'max_depth': [None, 3, 5, 7, 9, 15]\n",
    "}\n",
    "grid_searcher(dicty_models['Random_Forest_ET'], pg)"
   ]
  },
  {
   "cell_type": "code",
   "execution_count": 26,
   "metadata": {
    "collapsed": false
   },
   "outputs": [
    {
     "name": "stdout",
     "output_type": "stream",
     "text": [
      "Accuracy: 0.949903660886\n",
      "       pred_acc  pred_good  pred_unacc  pred_vgood\n",
      "acc         358         11           0           0\n",
      "good          4        102           6           1\n",
      "unacc         1          0          14           0\n",
      "vgood         0          2           1          19\n",
      "             precision    recall  f1-score   support\n",
      "\n",
      "          1       0.99      0.97      0.98       369\n",
      "          2       0.89      0.90      0.89       113\n",
      "          3       0.67      0.93      0.78        15\n",
      "          4       0.95      0.86      0.90        22\n",
      "\n",
      "avg / total       0.95      0.95      0.95       519\n",
      "\n"
     ]
    }
   ],
   "source": [
    "dicty_models['Random_Forest_ET'] = evaluate_model(ExtraTreesClassifier(bootstrap=False, criterion='entropy', max_depth=15))"
   ]
  },
  {
   "cell_type": "markdown",
   "metadata": {},
   "source": [
    "## 8. Model comparison\n",
    "\n",
    "Let's compare the scores of the various models.\n",
    "\n",
    "1. Do a bar chart of the scores of the best models. Who's the winner on the train/test split?\n",
    "- Re-test all the models using a 3 fold stratified shuffled cross validation\n",
    "- Do a bar chart with errorbars of the cross validation average scores. is the winner the same?\n"
   ]
  },
  {
   "cell_type": "code",
   "execution_count": 64,
   "metadata": {
    "collapsed": false
   },
   "outputs": [
    {
     "name": "stdout",
     "output_type": "stream",
     "text": [
      "Winner is decision tree barely\n"
     ]
    },
    {
     "data": {
      "image/png": "[encoded data removed]",
      "text/plain": [
       "<matplotlib.figure.Figure at 0x119675890>"
      ]
     },
     "metadata": {},
     "output_type": "display_data"
    }
   ],
   "source": [
    "listy_dicty_scores = []\n",
    "\n",
    "for x in dicty_models.keys():\n",
    "    listy_dicty_scores.append({\n",
    "        'Model_Name': x,\n",
    "        'Score': dicty_models[x].score(X_test, y_test)\n",
    "        })\n",
    "\n",
    "df_scores = pd.DataFrame(listy_dicty_scores)\n",
    "df_scores.head()\n",
    "df_scores.plot(x='Model_Name', y='Score', kind='bar', legend=False, title='Scores of Models', figsize=(10,10))\n",
    "print \"Winner is decision tree barely\"\n",
    "plt.show()"
   ]
  },
  {
   "cell_type": "markdown",
   "metadata": {},
   "source": [
    "## Bonus\n",
    "\n",
    "We have encoded the data using a map that preserves the scale.\n",
    "Would our results have changed if we had encoded the categorical data using `pd.get_dummies` or `OneHotEncoder`  to encode them as binary variables instead?\n",
    "\n",
    "1. Repeat the analysis for this scenario. Is it better?\n",
    "- Experiment with other models or other parameters, can you beat your classmates best score?"
   ]
  },
  {
   "cell_type": "code",
   "execution_count": null,
   "metadata": {
    "collapsed": false
   },
   "outputs": [],
   "source": []
  }
 ],
 "metadata": {
  "anaconda-cloud": {},
  "kernelspec": {
   "display_name": "Python [default]",
   "language": "python",
   "name": "python2"
  },
  "language_info": {
   "codemirror_mode": {
    "name": "ipython",
    "version": 2
   },
   "file_extension": ".py",
   "mimetype": "text/x-python",
   "name": "python",
   "nbconvert_exporter": "python",
   "pygments_lexer": "ipython2",
   "version": "2.7.12"
  }
 },
 "nbformat": 4,
 "nbformat_minor": 0
}
